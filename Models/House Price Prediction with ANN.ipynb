{
 "cells": [
  {
   "cell_type": "markdown",
   "metadata": {},
   "source": [
    "# House Price Prediction"
   ]
  },
  {
   "cell_type": "markdown",
   "metadata": {},
   "source": [
    "### Import Libraries"
   ]
  },
  {
   "cell_type": "code",
   "execution_count": 1,
   "metadata": {},
   "outputs": [],
   "source": [
    "import numpy as np\n",
    "import pandas as pd\n",
    "\n",
    "import matplotlib.pyplot as plt\n",
    "import seaborn as sns\n",
    "\n",
    "%matplotlib inline"
   ]
  },
  {
   "cell_type": "markdown",
   "metadata": {},
   "source": [
    "### Load Train Dataset"
   ]
  },
  {
   "cell_type": "code",
   "execution_count": 2,
   "metadata": {},
   "outputs": [
    {
     "data": {
      "text/html": [
       "<div>\n",
       "<style scoped>\n",
       "    .dataframe tbody tr th:only-of-type {\n",
       "        vertical-align: middle;\n",
       "    }\n",
       "\n",
       "    .dataframe tbody tr th {\n",
       "        vertical-align: top;\n",
       "    }\n",
       "\n",
       "    .dataframe thead th {\n",
       "        text-align: right;\n",
       "    }\n",
       "</style>\n",
       "<table border=\"1\" class=\"dataframe\">\n",
       "  <thead>\n",
       "    <tr style=\"text-align: right;\">\n",
       "      <th></th>\n",
       "      <th>Id</th>\n",
       "      <th>MSSubClass</th>\n",
       "      <th>MSZoning</th>\n",
       "      <th>LotFrontage</th>\n",
       "      <th>LotArea</th>\n",
       "      <th>Street</th>\n",
       "      <th>Alley</th>\n",
       "      <th>LotShape</th>\n",
       "      <th>LandContour</th>\n",
       "      <th>Utilities</th>\n",
       "      <th>...</th>\n",
       "      <th>PoolArea</th>\n",
       "      <th>PoolQC</th>\n",
       "      <th>Fence</th>\n",
       "      <th>MiscFeature</th>\n",
       "      <th>MiscVal</th>\n",
       "      <th>MoSold</th>\n",
       "      <th>YrSold</th>\n",
       "      <th>SaleType</th>\n",
       "      <th>SaleCondition</th>\n",
       "      <th>SalePrice</th>\n",
       "    </tr>\n",
       "  </thead>\n",
       "  <tbody>\n",
       "    <tr>\n",
       "      <td>0</td>\n",
       "      <td>1</td>\n",
       "      <td>60</td>\n",
       "      <td>RL</td>\n",
       "      <td>65.0</td>\n",
       "      <td>8450</td>\n",
       "      <td>Pave</td>\n",
       "      <td>NaN</td>\n",
       "      <td>Reg</td>\n",
       "      <td>Lvl</td>\n",
       "      <td>AllPub</td>\n",
       "      <td>...</td>\n",
       "      <td>0</td>\n",
       "      <td>NaN</td>\n",
       "      <td>NaN</td>\n",
       "      <td>NaN</td>\n",
       "      <td>0</td>\n",
       "      <td>2</td>\n",
       "      <td>2008</td>\n",
       "      <td>WD</td>\n",
       "      <td>Normal</td>\n",
       "      <td>208500</td>\n",
       "    </tr>\n",
       "    <tr>\n",
       "      <td>1</td>\n",
       "      <td>2</td>\n",
       "      <td>20</td>\n",
       "      <td>RL</td>\n",
       "      <td>80.0</td>\n",
       "      <td>9600</td>\n",
       "      <td>Pave</td>\n",
       "      <td>NaN</td>\n",
       "      <td>Reg</td>\n",
       "      <td>Lvl</td>\n",
       "      <td>AllPub</td>\n",
       "      <td>...</td>\n",
       "      <td>0</td>\n",
       "      <td>NaN</td>\n",
       "      <td>NaN</td>\n",
       "      <td>NaN</td>\n",
       "      <td>0</td>\n",
       "      <td>5</td>\n",
       "      <td>2007</td>\n",
       "      <td>WD</td>\n",
       "      <td>Normal</td>\n",
       "      <td>181500</td>\n",
       "    </tr>\n",
       "    <tr>\n",
       "      <td>2</td>\n",
       "      <td>3</td>\n",
       "      <td>60</td>\n",
       "      <td>RL</td>\n",
       "      <td>68.0</td>\n",
       "      <td>11250</td>\n",
       "      <td>Pave</td>\n",
       "      <td>NaN</td>\n",
       "      <td>IR1</td>\n",
       "      <td>Lvl</td>\n",
       "      <td>AllPub</td>\n",
       "      <td>...</td>\n",
       "      <td>0</td>\n",
       "      <td>NaN</td>\n",
       "      <td>NaN</td>\n",
       "      <td>NaN</td>\n",
       "      <td>0</td>\n",
       "      <td>9</td>\n",
       "      <td>2008</td>\n",
       "      <td>WD</td>\n",
       "      <td>Normal</td>\n",
       "      <td>223500</td>\n",
       "    </tr>\n",
       "    <tr>\n",
       "      <td>3</td>\n",
       "      <td>4</td>\n",
       "      <td>70</td>\n",
       "      <td>RL</td>\n",
       "      <td>60.0</td>\n",
       "      <td>9550</td>\n",
       "      <td>Pave</td>\n",
       "      <td>NaN</td>\n",
       "      <td>IR1</td>\n",
       "      <td>Lvl</td>\n",
       "      <td>AllPub</td>\n",
       "      <td>...</td>\n",
       "      <td>0</td>\n",
       "      <td>NaN</td>\n",
       "      <td>NaN</td>\n",
       "      <td>NaN</td>\n",
       "      <td>0</td>\n",
       "      <td>2</td>\n",
       "      <td>2006</td>\n",
       "      <td>WD</td>\n",
       "      <td>Abnorml</td>\n",
       "      <td>140000</td>\n",
       "    </tr>\n",
       "    <tr>\n",
       "      <td>4</td>\n",
       "      <td>5</td>\n",
       "      <td>60</td>\n",
       "      <td>RL</td>\n",
       "      <td>84.0</td>\n",
       "      <td>14260</td>\n",
       "      <td>Pave</td>\n",
       "      <td>NaN</td>\n",
       "      <td>IR1</td>\n",
       "      <td>Lvl</td>\n",
       "      <td>AllPub</td>\n",
       "      <td>...</td>\n",
       "      <td>0</td>\n",
       "      <td>NaN</td>\n",
       "      <td>NaN</td>\n",
       "      <td>NaN</td>\n",
       "      <td>0</td>\n",
       "      <td>12</td>\n",
       "      <td>2008</td>\n",
       "      <td>WD</td>\n",
       "      <td>Normal</td>\n",
       "      <td>250000</td>\n",
       "    </tr>\n",
       "  </tbody>\n",
       "</table>\n",
       "<p>5 rows × 81 columns</p>\n",
       "</div>"
      ],
      "text/plain": [
       "   Id  MSSubClass MSZoning  LotFrontage  LotArea Street Alley LotShape  \\\n",
       "0   1          60       RL         65.0     8450   Pave   NaN      Reg   \n",
       "1   2          20       RL         80.0     9600   Pave   NaN      Reg   \n",
       "2   3          60       RL         68.0    11250   Pave   NaN      IR1   \n",
       "3   4          70       RL         60.0     9550   Pave   NaN      IR1   \n",
       "4   5          60       RL         84.0    14260   Pave   NaN      IR1   \n",
       "\n",
       "  LandContour Utilities  ... PoolArea PoolQC Fence MiscFeature MiscVal MoSold  \\\n",
       "0         Lvl    AllPub  ...        0    NaN   NaN         NaN       0      2   \n",
       "1         Lvl    AllPub  ...        0    NaN   NaN         NaN       0      5   \n",
       "2         Lvl    AllPub  ...        0    NaN   NaN         NaN       0      9   \n",
       "3         Lvl    AllPub  ...        0    NaN   NaN         NaN       0      2   \n",
       "4         Lvl    AllPub  ...        0    NaN   NaN         NaN       0     12   \n",
       "\n",
       "  YrSold  SaleType  SaleCondition  SalePrice  \n",
       "0   2008        WD         Normal     208500  \n",
       "1   2007        WD         Normal     181500  \n",
       "2   2008        WD         Normal     223500  \n",
       "3   2006        WD        Abnorml     140000  \n",
       "4   2008        WD         Normal     250000  \n",
       "\n",
       "[5 rows x 81 columns]"
      ]
     },
     "execution_count": 2,
     "metadata": {},
     "output_type": "execute_result"
    }
   ],
   "source": [
    "dataset = pd.read_csv(r\"E:\\DEEP LEARNING\\Projects\\House Price Predictions\\train.csv\")\n",
    "dataset.head()"
   ]
  },
  {
   "cell_type": "markdown",
   "metadata": {},
   "source": [
    "### Load Test Dataset"
   ]
  },
  {
   "cell_type": "code",
   "execution_count": 3,
   "metadata": {
    "scrolled": true
   },
   "outputs": [
    {
     "data": {
      "text/html": [
       "<div>\n",
       "<style scoped>\n",
       "    .dataframe tbody tr th:only-of-type {\n",
       "        vertical-align: middle;\n",
       "    }\n",
       "\n",
       "    .dataframe tbody tr th {\n",
       "        vertical-align: top;\n",
       "    }\n",
       "\n",
       "    .dataframe thead th {\n",
       "        text-align: right;\n",
       "    }\n",
       "</style>\n",
       "<table border=\"1\" class=\"dataframe\">\n",
       "  <thead>\n",
       "    <tr style=\"text-align: right;\">\n",
       "      <th></th>\n",
       "      <th>Id</th>\n",
       "      <th>MSSubClass</th>\n",
       "      <th>MSZoning</th>\n",
       "      <th>LotFrontage</th>\n",
       "      <th>LotArea</th>\n",
       "      <th>Street</th>\n",
       "      <th>Alley</th>\n",
       "      <th>LotShape</th>\n",
       "      <th>LandContour</th>\n",
       "      <th>Utilities</th>\n",
       "      <th>...</th>\n",
       "      <th>ScreenPorch</th>\n",
       "      <th>PoolArea</th>\n",
       "      <th>PoolQC</th>\n",
       "      <th>Fence</th>\n",
       "      <th>MiscFeature</th>\n",
       "      <th>MiscVal</th>\n",
       "      <th>MoSold</th>\n",
       "      <th>YrSold</th>\n",
       "      <th>SaleType</th>\n",
       "      <th>SaleCondition</th>\n",
       "    </tr>\n",
       "  </thead>\n",
       "  <tbody>\n",
       "    <tr>\n",
       "      <td>0</td>\n",
       "      <td>1461</td>\n",
       "      <td>20</td>\n",
       "      <td>RH</td>\n",
       "      <td>80.0</td>\n",
       "      <td>11622</td>\n",
       "      <td>Pave</td>\n",
       "      <td>NaN</td>\n",
       "      <td>Reg</td>\n",
       "      <td>Lvl</td>\n",
       "      <td>AllPub</td>\n",
       "      <td>...</td>\n",
       "      <td>120</td>\n",
       "      <td>0</td>\n",
       "      <td>NaN</td>\n",
       "      <td>MnPrv</td>\n",
       "      <td>NaN</td>\n",
       "      <td>0</td>\n",
       "      <td>6</td>\n",
       "      <td>2010</td>\n",
       "      <td>WD</td>\n",
       "      <td>Normal</td>\n",
       "    </tr>\n",
       "    <tr>\n",
       "      <td>1</td>\n",
       "      <td>1462</td>\n",
       "      <td>20</td>\n",
       "      <td>RL</td>\n",
       "      <td>81.0</td>\n",
       "      <td>14267</td>\n",
       "      <td>Pave</td>\n",
       "      <td>NaN</td>\n",
       "      <td>IR1</td>\n",
       "      <td>Lvl</td>\n",
       "      <td>AllPub</td>\n",
       "      <td>...</td>\n",
       "      <td>0</td>\n",
       "      <td>0</td>\n",
       "      <td>NaN</td>\n",
       "      <td>NaN</td>\n",
       "      <td>Gar2</td>\n",
       "      <td>12500</td>\n",
       "      <td>6</td>\n",
       "      <td>2010</td>\n",
       "      <td>WD</td>\n",
       "      <td>Normal</td>\n",
       "    </tr>\n",
       "    <tr>\n",
       "      <td>2</td>\n",
       "      <td>1463</td>\n",
       "      <td>60</td>\n",
       "      <td>RL</td>\n",
       "      <td>74.0</td>\n",
       "      <td>13830</td>\n",
       "      <td>Pave</td>\n",
       "      <td>NaN</td>\n",
       "      <td>IR1</td>\n",
       "      <td>Lvl</td>\n",
       "      <td>AllPub</td>\n",
       "      <td>...</td>\n",
       "      <td>0</td>\n",
       "      <td>0</td>\n",
       "      <td>NaN</td>\n",
       "      <td>MnPrv</td>\n",
       "      <td>NaN</td>\n",
       "      <td>0</td>\n",
       "      <td>3</td>\n",
       "      <td>2010</td>\n",
       "      <td>WD</td>\n",
       "      <td>Normal</td>\n",
       "    </tr>\n",
       "    <tr>\n",
       "      <td>3</td>\n",
       "      <td>1464</td>\n",
       "      <td>60</td>\n",
       "      <td>RL</td>\n",
       "      <td>78.0</td>\n",
       "      <td>9978</td>\n",
       "      <td>Pave</td>\n",
       "      <td>NaN</td>\n",
       "      <td>IR1</td>\n",
       "      <td>Lvl</td>\n",
       "      <td>AllPub</td>\n",
       "      <td>...</td>\n",
       "      <td>0</td>\n",
       "      <td>0</td>\n",
       "      <td>NaN</td>\n",
       "      <td>NaN</td>\n",
       "      <td>NaN</td>\n",
       "      <td>0</td>\n",
       "      <td>6</td>\n",
       "      <td>2010</td>\n",
       "      <td>WD</td>\n",
       "      <td>Normal</td>\n",
       "    </tr>\n",
       "    <tr>\n",
       "      <td>4</td>\n",
       "      <td>1465</td>\n",
       "      <td>120</td>\n",
       "      <td>RL</td>\n",
       "      <td>43.0</td>\n",
       "      <td>5005</td>\n",
       "      <td>Pave</td>\n",
       "      <td>NaN</td>\n",
       "      <td>IR1</td>\n",
       "      <td>HLS</td>\n",
       "      <td>AllPub</td>\n",
       "      <td>...</td>\n",
       "      <td>144</td>\n",
       "      <td>0</td>\n",
       "      <td>NaN</td>\n",
       "      <td>NaN</td>\n",
       "      <td>NaN</td>\n",
       "      <td>0</td>\n",
       "      <td>1</td>\n",
       "      <td>2010</td>\n",
       "      <td>WD</td>\n",
       "      <td>Normal</td>\n",
       "    </tr>\n",
       "  </tbody>\n",
       "</table>\n",
       "<p>5 rows × 80 columns</p>\n",
       "</div>"
      ],
      "text/plain": [
       "     Id  MSSubClass MSZoning  LotFrontage  LotArea Street Alley LotShape  \\\n",
       "0  1461          20       RH         80.0    11622   Pave   NaN      Reg   \n",
       "1  1462          20       RL         81.0    14267   Pave   NaN      IR1   \n",
       "2  1463          60       RL         74.0    13830   Pave   NaN      IR1   \n",
       "3  1464          60       RL         78.0     9978   Pave   NaN      IR1   \n",
       "4  1465         120       RL         43.0     5005   Pave   NaN      IR1   \n",
       "\n",
       "  LandContour Utilities  ... ScreenPorch PoolArea PoolQC  Fence MiscFeature  \\\n",
       "0         Lvl    AllPub  ...         120        0    NaN  MnPrv         NaN   \n",
       "1         Lvl    AllPub  ...           0        0    NaN    NaN        Gar2   \n",
       "2         Lvl    AllPub  ...           0        0    NaN  MnPrv         NaN   \n",
       "3         Lvl    AllPub  ...           0        0    NaN    NaN         NaN   \n",
       "4         HLS    AllPub  ...         144        0    NaN    NaN         NaN   \n",
       "\n",
       "  MiscVal MoSold  YrSold  SaleType  SaleCondition  \n",
       "0       0      6    2010        WD         Normal  \n",
       "1   12500      6    2010        WD         Normal  \n",
       "2       0      3    2010        WD         Normal  \n",
       "3       0      6    2010        WD         Normal  \n",
       "4       0      1    2010        WD         Normal  \n",
       "\n",
       "[5 rows x 80 columns]"
      ]
     },
     "execution_count": 3,
     "metadata": {},
     "output_type": "execute_result"
    }
   ],
   "source": [
    "test_data = pd.read_csv(r\"E:\\DEEP LEARNING\\Projects\\House Price Predictions\\test.csv\")\n",
    "test_data.head()"
   ]
  },
  {
   "cell_type": "code",
   "execution_count": 4,
   "metadata": {},
   "outputs": [
    {
     "data": {
      "text/plain": [
       "(1459, 80)"
      ]
     },
     "execution_count": 4,
     "metadata": {},
     "output_type": "execute_result"
    }
   ],
   "source": [
    "test_data.shape"
   ]
  },
  {
   "cell_type": "markdown",
   "metadata": {},
   "source": [
    "### Handling not available data"
   ]
  },
  {
   "cell_type": "code",
   "execution_count": 5,
   "metadata": {
    "scrolled": true
   },
   "outputs": [
    {
     "data": {
      "text/plain": [
       "Index(['LotFrontage', 'Alley', 'MasVnrType', 'MasVnrArea', 'BsmtQual',\n",
       "       'BsmtCond', 'BsmtExposure', 'BsmtFinType1', 'BsmtFinType2',\n",
       "       'Electrical', 'FireplaceQu', 'GarageType', 'GarageYrBlt',\n",
       "       'GarageFinish', 'GarageQual', 'GarageCond', 'PoolQC', 'Fence',\n",
       "       'MiscFeature'],\n",
       "      dtype='object')"
      ]
     },
     "execution_count": 5,
     "metadata": {},
     "output_type": "execute_result"
    }
   ],
   "source": [
    "#Returns columns having NaN values\n",
    "dataset.columns[dataset.isnull().any()]"
   ]
  },
  {
   "cell_type": "code",
   "execution_count": 6,
   "metadata": {},
   "outputs": [
    {
     "data": {
      "text/plain": [
       "LotFrontage      259\n",
       "Alley           1369\n",
       "MasVnrType         8\n",
       "MasVnrArea         8\n",
       "BsmtQual          37\n",
       "BsmtCond          37\n",
       "BsmtExposure      38\n",
       "BsmtFinType1      37\n",
       "BsmtFinType2      38\n",
       "Electrical         1\n",
       "FireplaceQu      690\n",
       "GarageType        81\n",
       "GarageYrBlt       81\n",
       "GarageFinish      81\n",
       "GarageQual        81\n",
       "GarageCond        81\n",
       "PoolQC          1453\n",
       "Fence           1179\n",
       "MiscFeature     1406\n",
       "dtype: int64"
      ]
     },
     "execution_count": 6,
     "metadata": {},
     "output_type": "execute_result"
    }
   ],
   "source": [
    "#obtain count of NaN\n",
    "dataset[dataset.columns[dataset.isnull().any()]].isnull().sum()"
   ]
  },
  {
   "cell_type": "markdown",
   "metadata": {},
   "source": [
    "#### LotFrontage is to be filled with mean\n",
    "#### Alley ,  BsmtQual , BsmtCond , BsmtExposure , BsmtFinType1 , BsmtFinType2 , FireplaceQu ,  GarageType , GarageYrBlt , GarageFinish ,  GarageQual , GarageCond , PoolQC , Fence are to be filled with 'Not Available'\n",
    "\n",
    "#### Drop 'MasVnrType' ,  'MasVnrArea' , 'MiscFeature' , 'Electrical'  value columns\n",
    " "
   ]
  },
  {
   "cell_type": "markdown",
   "metadata": {},
   "source": [
    "### Assign Predictors and Targets"
   ]
  },
  {
   "cell_type": "code",
   "execution_count": 7,
   "metadata": {},
   "outputs": [],
   "source": [
    "X = dataset.drop(labels = ['SalePrice', 'Id'], axis = 1)\n",
    "y = dataset['SalePrice']"
   ]
  },
  {
   "cell_type": "code",
   "execution_count": 8,
   "metadata": {},
   "outputs": [
    {
     "data": {
      "text/plain": [
       "0    208500\n",
       "1    181500\n",
       "2    223500\n",
       "3    140000\n",
       "4    250000\n",
       "Name: SalePrice, dtype: int64"
      ]
     },
     "execution_count": 8,
     "metadata": {},
     "output_type": "execute_result"
    }
   ],
   "source": [
    "y.head()"
   ]
  },
  {
   "cell_type": "markdown",
   "metadata": {},
   "source": [
    "### Handle Missing Data on train dataset"
   ]
  },
  {
   "cell_type": "code",
   "execution_count": 9,
   "metadata": {},
   "outputs": [],
   "source": [
    "X['LotFrontage'].fillna(value = X['LotFrontage'].mean(), inplace=True)\n",
    "X['BsmtQual'].fillna(value = 'Not Available', inplace=True)\n",
    "X['BsmtCond'].fillna(value = 'Not Available', inplace=True)\n",
    "X['BsmtExposure'].fillna(value = 'Not Available', inplace=True)\n",
    "X['BsmtFinType1'].fillna(value = 'Not Available', inplace=True)\n",
    "X['BsmtFinType2'].fillna(value = 'Not Available', inplace=True)\n",
    "X['GarageType'].fillna(value = 'Not Available', inplace=True)\n",
    "X['GarageYrBlt'].fillna(value = 'Not Available', inplace=True)\n",
    "X['GarageFinish'].fillna(value = 'Not Available', inplace=True)\n",
    "X['GarageQual'].fillna(value = 'Not Available', inplace=True)\n",
    "X['GarageCond'].fillna(value = 'Not Available', inplace=True)\n",
    "X['PoolQC'].fillna(value = 'Not Available', inplace=True)"
   ]
  },
  {
   "cell_type": "code",
   "execution_count": 10,
   "metadata": {},
   "outputs": [
    {
     "data": {
      "text/plain": [
       "Alley          1369\n",
       "MasVnrType        8\n",
       "MasVnrArea        8\n",
       "Electrical        1\n",
       "FireplaceQu     690\n",
       "Fence          1179\n",
       "MiscFeature    1406\n",
       "dtype: int64"
      ]
     },
     "execution_count": 10,
     "metadata": {},
     "output_type": "execute_result"
    }
   ],
   "source": [
    "X[X.columns[X.isnull().any()]].isnull().sum()"
   ]
  },
  {
   "cell_type": "markdown",
   "metadata": {},
   "source": [
    "#### Drop MSSubclass, LotFrontage, LotArea,  Alley, LotShape, LandContour, LotConfig, Condition1, Condition2, 'RoofStyle' ,RoofMatl', 'Exterior1st', 'Exterior2nd', 'Heating', 'HeatingQC', 'CentralAir', '1stFlrSF', '2ndFlrSF',  'LowQualFinSF', 'BsmtFullBath', 'BsmtHalfBath', 'FullBath', 'HalfBath', 'BedroomAbvGr', 'KitchenAbvGr','Fireplaces', 'FireplaceQu', 'GarageYrBlt', 'GarageFinish', 'GarageArea','WoodDeckSF', 'OpenPorchSF',  'EnclosedPorch', '3SsnPorch', 'ScreenPorch',PoolArea, 'Fence', 'MiscVal','SaleType', 'SaleCondition', 'MasVnrType' , 'MasVnrArea' , 'MiscFeature' , 'Electrical'"
   ]
  },
  {
   "cell_type": "code",
   "execution_count": 11,
   "metadata": {},
   "outputs": [],
   "source": [
    "X_cleaned = X.drop(labels = ['MSSubClass', 'LotFrontage', 'LotArea', 'Alley', 'LotShape', 'LandContour',\n",
    "                                           'LotConfig', 'Condition1', 'Condition2', 'RoofStyle' ,'RoofMatl', 'Exterior1st',\n",
    "                                           'Exterior2nd', 'Heating', 'HeatingQC', 'CentralAir', '1stFlrSF', '2ndFlrSF', \n",
    "                                           'LowQualFinSF', 'BsmtFullBath', 'BsmtHalfBath', 'FullBath', 'HalfBath',\n",
    "                                           'BedroomAbvGr', 'KitchenAbvGr','Fireplaces', 'FireplaceQu', 'GarageYrBlt',\n",
    "                                           'GarageFinish', 'GarageArea','WoodDeckSF', 'OpenPorchSF', 'EnclosedPorch',\n",
    "                                           '3SsnPorch', 'ScreenPorch','PoolArea', 'Fence', 'MiscVal','SaleType',\n",
    "                                           'SaleCondition', 'MasVnrType' , 'MasVnrArea' , 'MiscFeature' , 'Electrical'], axis = 1)"
   ]
  },
  {
   "cell_type": "code",
   "execution_count": 12,
   "metadata": {},
   "outputs": [
    {
     "data": {
      "text/plain": [
       "Index(['MSZoning', 'Street', 'Utilities', 'LandSlope', 'Neighborhood',\n",
       "       'BldgType', 'HouseStyle', 'OverallQual', 'OverallCond', 'YearBuilt',\n",
       "       'YearRemodAdd', 'ExterQual', 'ExterCond', 'Foundation', 'BsmtQual',\n",
       "       'BsmtCond', 'BsmtExposure', 'BsmtFinType1', 'BsmtFinSF1',\n",
       "       'BsmtFinType2', 'BsmtFinSF2', 'BsmtUnfSF', 'TotalBsmtSF', 'GrLivArea',\n",
       "       'KitchenQual', 'TotRmsAbvGrd', 'Functional', 'GarageType', 'GarageCars',\n",
       "       'GarageQual', 'GarageCond', 'PavedDrive', 'PoolQC', 'MoSold', 'YrSold'],\n",
       "      dtype='object')"
      ]
     },
     "execution_count": 12,
     "metadata": {},
     "output_type": "execute_result"
    }
   ],
   "source": [
    "X_cleaned.columns"
   ]
  },
  {
   "cell_type": "code",
   "execution_count": 13,
   "metadata": {
    "scrolled": true
   },
   "outputs": [
    {
     "data": {
      "text/plain": [
       "<matplotlib.axes._subplots.AxesSubplot at 0x180bb409508>"
      ]
     },
     "execution_count": 13,
     "metadata": {},
     "output_type": "execute_result"
    },
    {
     "data": {
      "image/png": "[encoded data removed]",
      "text/plain": [
       "<Figure size 432x288 with 2 Axes>"
      ]
     },
     "metadata": {
      "needs_background": "light"
     },
     "output_type": "display_data"
    }
   ],
   "source": [
    "sns.heatmap(X_cleaned.isnull(), cmap='viridis')"
   ]
  },
  {
   "cell_type": "code",
   "execution_count": 14,
   "metadata": {},
   "outputs": [
    {
     "data": {
      "text/plain": [
       "(1460, 35)"
      ]
     },
     "execution_count": 14,
     "metadata": {},
     "output_type": "execute_result"
    }
   ],
   "source": [
    "X_cleaned.shape"
   ]
  },
  {
   "cell_type": "markdown",
   "metadata": {},
   "source": [
    "### Handling Missing Data on Test Dataset"
   ]
  },
  {
   "cell_type": "code",
   "execution_count": 15,
   "metadata": {},
   "outputs": [],
   "source": [
    "Y = test_data.drop(labels = ['Id','MSSubClass', 'LotFrontage', 'LotArea', 'Alley', 'LotShape', 'LandContour',\n",
    "                                           'LotConfig', 'Condition1', 'Condition2', 'RoofStyle' ,'RoofMatl', 'Exterior1st',\n",
    "                                           'Exterior2nd', 'Heating', 'HeatingQC', 'CentralAir', '1stFlrSF', '2ndFlrSF', \n",
    "                                           'LowQualFinSF', 'BsmtFullBath', 'BsmtHalfBath', 'FullBath', 'HalfBath',\n",
    "                                           'BedroomAbvGr', 'KitchenAbvGr','Fireplaces', 'FireplaceQu', 'GarageYrBlt',\n",
    "                                           'GarageFinish', 'GarageArea','WoodDeckSF', 'OpenPorchSF', 'EnclosedPorch',\n",
    "                                           '3SsnPorch', 'ScreenPorch','PoolArea', 'Fence', 'MiscVal','SaleType',\n",
    "                                           'SaleCondition', 'MasVnrType' , 'MasVnrArea' , 'MiscFeature' , 'Electrical'], axis = 1)"
   ]
  },
  {
   "cell_type": "code",
   "execution_count": 16,
   "metadata": {},
   "outputs": [
    {
     "data": {
      "text/html": [
       "<div>\n",
       "<style scoped>\n",
       "    .dataframe tbody tr th:only-of-type {\n",
       "        vertical-align: middle;\n",
       "    }\n",
       "\n",
       "    .dataframe tbody tr th {\n",
       "        vertical-align: top;\n",
       "    }\n",
       "\n",
       "    .dataframe thead th {\n",
       "        text-align: right;\n",
       "    }\n",
       "</style>\n",
       "<table border=\"1\" class=\"dataframe\">\n",
       "  <thead>\n",
       "    <tr style=\"text-align: right;\">\n",
       "      <th></th>\n",
       "      <th>MSZoning</th>\n",
       "      <th>Street</th>\n",
       "      <th>Utilities</th>\n",
       "      <th>LandSlope</th>\n",
       "      <th>Neighborhood</th>\n",
       "      <th>BldgType</th>\n",
       "      <th>HouseStyle</th>\n",
       "      <th>OverallQual</th>\n",
       "      <th>OverallCond</th>\n",
       "      <th>YearBuilt</th>\n",
       "      <th>...</th>\n",
       "      <th>TotRmsAbvGrd</th>\n",
       "      <th>Functional</th>\n",
       "      <th>GarageType</th>\n",
       "      <th>GarageCars</th>\n",
       "      <th>GarageQual</th>\n",
       "      <th>GarageCond</th>\n",
       "      <th>PavedDrive</th>\n",
       "      <th>PoolQC</th>\n",
       "      <th>MoSold</th>\n",
       "      <th>YrSold</th>\n",
       "    </tr>\n",
       "  </thead>\n",
       "  <tbody>\n",
       "    <tr>\n",
       "      <td>0</td>\n",
       "      <td>RH</td>\n",
       "      <td>Pave</td>\n",
       "      <td>AllPub</td>\n",
       "      <td>Gtl</td>\n",
       "      <td>NAmes</td>\n",
       "      <td>1Fam</td>\n",
       "      <td>1Story</td>\n",
       "      <td>5</td>\n",
       "      <td>6</td>\n",
       "      <td>1961</td>\n",
       "      <td>...</td>\n",
       "      <td>5</td>\n",
       "      <td>Typ</td>\n",
       "      <td>Attchd</td>\n",
       "      <td>1.0</td>\n",
       "      <td>TA</td>\n",
       "      <td>TA</td>\n",
       "      <td>Y</td>\n",
       "      <td>NaN</td>\n",
       "      <td>6</td>\n",
       "      <td>2010</td>\n",
       "    </tr>\n",
       "    <tr>\n",
       "      <td>1</td>\n",
       "      <td>RL</td>\n",
       "      <td>Pave</td>\n",
       "      <td>AllPub</td>\n",
       "      <td>Gtl</td>\n",
       "      <td>NAmes</td>\n",
       "      <td>1Fam</td>\n",
       "      <td>1Story</td>\n",
       "      <td>6</td>\n",
       "      <td>6</td>\n",
       "      <td>1958</td>\n",
       "      <td>...</td>\n",
       "      <td>6</td>\n",
       "      <td>Typ</td>\n",
       "      <td>Attchd</td>\n",
       "      <td>1.0</td>\n",
       "      <td>TA</td>\n",
       "      <td>TA</td>\n",
       "      <td>Y</td>\n",
       "      <td>NaN</td>\n",
       "      <td>6</td>\n",
       "      <td>2010</td>\n",
       "    </tr>\n",
       "    <tr>\n",
       "      <td>2</td>\n",
       "      <td>RL</td>\n",
       "      <td>Pave</td>\n",
       "      <td>AllPub</td>\n",
       "      <td>Gtl</td>\n",
       "      <td>Gilbert</td>\n",
       "      <td>1Fam</td>\n",
       "      <td>2Story</td>\n",
       "      <td>5</td>\n",
       "      <td>5</td>\n",
       "      <td>1997</td>\n",
       "      <td>...</td>\n",
       "      <td>6</td>\n",
       "      <td>Typ</td>\n",
       "      <td>Attchd</td>\n",
       "      <td>2.0</td>\n",
       "      <td>TA</td>\n",
       "      <td>TA</td>\n",
       "      <td>Y</td>\n",
       "      <td>NaN</td>\n",
       "      <td>3</td>\n",
       "      <td>2010</td>\n",
       "    </tr>\n",
       "    <tr>\n",
       "      <td>3</td>\n",
       "      <td>RL</td>\n",
       "      <td>Pave</td>\n",
       "      <td>AllPub</td>\n",
       "      <td>Gtl</td>\n",
       "      <td>Gilbert</td>\n",
       "      <td>1Fam</td>\n",
       "      <td>2Story</td>\n",
       "      <td>6</td>\n",
       "      <td>6</td>\n",
       "      <td>1998</td>\n",
       "      <td>...</td>\n",
       "      <td>7</td>\n",
       "      <td>Typ</td>\n",
       "      <td>Attchd</td>\n",
       "      <td>2.0</td>\n",
       "      <td>TA</td>\n",
       "      <td>TA</td>\n",
       "      <td>Y</td>\n",
       "      <td>NaN</td>\n",
       "      <td>6</td>\n",
       "      <td>2010</td>\n",
       "    </tr>\n",
       "    <tr>\n",
       "      <td>4</td>\n",
       "      <td>RL</td>\n",
       "      <td>Pave</td>\n",
       "      <td>AllPub</td>\n",
       "      <td>Gtl</td>\n",
       "      <td>StoneBr</td>\n",
       "      <td>TwnhsE</td>\n",
       "      <td>1Story</td>\n",
       "      <td>8</td>\n",
       "      <td>5</td>\n",
       "      <td>1992</td>\n",
       "      <td>...</td>\n",
       "      <td>5</td>\n",
       "      <td>Typ</td>\n",
       "      <td>Attchd</td>\n",
       "      <td>2.0</td>\n",
       "      <td>TA</td>\n",
       "      <td>TA</td>\n",
       "      <td>Y</td>\n",
       "      <td>NaN</td>\n",
       "      <td>1</td>\n",
       "      <td>2010</td>\n",
       "    </tr>\n",
       "  </tbody>\n",
       "</table>\n",
       "<p>5 rows × 35 columns</p>\n",
       "</div>"
      ],
      "text/plain": [
       "  MSZoning Street Utilities LandSlope Neighborhood BldgType HouseStyle  \\\n",
       "0       RH   Pave    AllPub       Gtl        NAmes     1Fam     1Story   \n",
       "1       RL   Pave    AllPub       Gtl        NAmes     1Fam     1Story   \n",
       "2       RL   Pave    AllPub       Gtl      Gilbert     1Fam     2Story   \n",
       "3       RL   Pave    AllPub       Gtl      Gilbert     1Fam     2Story   \n",
       "4       RL   Pave    AllPub       Gtl      StoneBr   TwnhsE     1Story   \n",
       "\n",
       "   OverallQual  OverallCond  YearBuilt  ...  TotRmsAbvGrd Functional  \\\n",
       "0            5            6       1961  ...             5        Typ   \n",
       "1            6            6       1958  ...             6        Typ   \n",
       "2            5            5       1997  ...             6        Typ   \n",
       "3            6            6       1998  ...             7        Typ   \n",
       "4            8            5       1992  ...             5        Typ   \n",
       "\n",
       "  GarageType GarageCars GarageQual GarageCond PavedDrive PoolQC  MoSold YrSold  \n",
       "0     Attchd        1.0         TA         TA          Y    NaN       6   2010  \n",
       "1     Attchd        1.0         TA         TA          Y    NaN       6   2010  \n",
       "2     Attchd        2.0         TA         TA          Y    NaN       3   2010  \n",
       "3     Attchd        2.0         TA         TA          Y    NaN       6   2010  \n",
       "4     Attchd        2.0         TA         TA          Y    NaN       1   2010  \n",
       "\n",
       "[5 rows x 35 columns]"
      ]
     },
     "execution_count": 16,
     "metadata": {},
     "output_type": "execute_result"
    }
   ],
   "source": [
    "Y.head()"
   ]
  },
  {
   "cell_type": "code",
   "execution_count": 17,
   "metadata": {},
   "outputs": [
    {
     "data": {
      "text/plain": [
       "MSZoning           4\n",
       "Utilities          2\n",
       "BsmtQual          44\n",
       "BsmtCond          45\n",
       "BsmtExposure      44\n",
       "BsmtFinType1      42\n",
       "BsmtFinSF1         1\n",
       "BsmtFinType2      42\n",
       "BsmtFinSF2         1\n",
       "BsmtUnfSF          1\n",
       "TotalBsmtSF        1\n",
       "KitchenQual        1\n",
       "Functional         2\n",
       "GarageType        76\n",
       "GarageCars         1\n",
       "GarageQual        78\n",
       "GarageCond        78\n",
       "PoolQC          1456\n",
       "dtype: int64"
      ]
     },
     "execution_count": 17,
     "metadata": {},
     "output_type": "execute_result"
    }
   ],
   "source": [
    "Y[Y.columns[Y.isnull().any()]].isnull().sum()"
   ]
  },
  {
   "cell_type": "code",
   "execution_count": 18,
   "metadata": {},
   "outputs": [
    {
     "data": {
      "text/plain": [
       "<matplotlib.axes._subplots.AxesSubplot at 0x180bb97c048>"
      ]
     },
     "execution_count": 18,
     "metadata": {},
     "output_type": "execute_result"
    },
    {
     "data": {
      "image/png": "[encoded data removed]",
      "text/plain": [
       "<Figure size 432x288 with 2 Axes>"
      ]
     },
     "metadata": {
      "needs_background": "light"
     },
     "output_type": "display_data"
    }
   ],
   "source": [
    "sns.heatmap(Y.isnull(), cmap='viridis')"
   ]
  },
  {
   "cell_type": "code",
   "execution_count": 19,
   "metadata": {},
   "outputs": [],
   "source": [
    "Y['MSZoning'].fillna(value = Y['MSZoning'].mode()[0], inplace=True)\n",
    "Y['Utilities'].fillna(value = Y['Utilities'].mode()[0], inplace=True)\n",
    "Y['BsmtQual'].fillna(value = 'Not Available', inplace=True)\n",
    "Y['BsmtCond'].fillna(value = 'Not Available', inplace=True)\n",
    "Y['BsmtExposure'].fillna(value = 'Not Available', inplace=True)\n",
    "Y['BsmtFinType1'].fillna(value = 'Not Available', inplace=True)\n",
    "Y['BsmtFinSF1'].fillna(value = Y['BsmtFinSF1'].mean(), inplace=True)\n",
    "Y['BsmtFinType2'].fillna(value = 'Not Available', inplace=True)\n",
    "Y['BsmtFinSF2'].fillna(value = Y['BsmtFinSF2'].mean(), inplace=True)\n",
    "Y['BsmtUnfSF'].fillna(value = Y['BsmtUnfSF'].mean(), inplace=True)\n",
    "Y['TotalBsmtSF'].fillna(value = Y['TotalBsmtSF'].mean(), inplace=True)\n",
    "Y['KitchenQual'].fillna(value = Y['KitchenQual'].mode()[0], inplace=True)\n",
    "Y['Functional'].fillna(value = Y['Functional'].mode()[0], inplace=True)\n",
    "Y['GarageType'].fillna(value = 'Not Available', inplace=True)\n",
    "Y['GarageCars'].fillna(value = Y['GarageCars'].mean(), inplace=True)\n",
    "Y['GarageQual'].fillna(value = 'Not Available', inplace=True)\n",
    "Y['GarageCond'].fillna(value = 'Not Available', inplace=True)\n",
    "Y['PoolQC'].fillna(value = 'Not Available', inplace=True)"
   ]
  },
  {
   "cell_type": "code",
   "execution_count": 20,
   "metadata": {},
   "outputs": [
    {
     "data": {
      "text/plain": [
       "<matplotlib.axes._subplots.AxesSubplot at 0x180bbc41dc8>"
      ]
     },
     "execution_count": 20,
     "metadata": {},
     "output_type": "execute_result"
    },
    {
     "data": {
      "image/png": "[encoded data removed]",
      "text/plain": [
       "<Figure size 432x288 with 2 Axes>"
      ]
     },
     "metadata": {
      "needs_background": "light"
     },
     "output_type": "display_data"
    }
   ],
   "source": [
    "sns.heatmap(Y.isnull(), cmap='viridis')"
   ]
  },
  {
   "cell_type": "code",
   "execution_count": 21,
   "metadata": {
    "scrolled": true
   },
   "outputs": [
    {
     "data": {
      "text/plain": [
       "Series([], dtype: float64)"
      ]
     },
     "execution_count": 21,
     "metadata": {},
     "output_type": "execute_result"
    }
   ],
   "source": [
    "Y[Y.columns[Y.isnull().any()]].isnull().sum()"
   ]
  },
  {
   "cell_type": "code",
   "execution_count": 22,
   "metadata": {},
   "outputs": [
    {
     "data": {
      "text/plain": [
       "Index(['MSZoning', 'Street', 'Utilities', 'LandSlope', 'Neighborhood',\n",
       "       'BldgType', 'HouseStyle', 'OverallQual', 'OverallCond', 'YearBuilt',\n",
       "       'YearRemodAdd', 'ExterQual', 'ExterCond', 'Foundation', 'BsmtQual',\n",
       "       'BsmtCond', 'BsmtExposure', 'BsmtFinType1', 'BsmtFinSF1',\n",
       "       'BsmtFinType2', 'BsmtFinSF2', 'BsmtUnfSF', 'TotalBsmtSF', 'GrLivArea',\n",
       "       'KitchenQual', 'TotRmsAbvGrd', 'Functional', 'GarageType', 'GarageCars',\n",
       "       'GarageQual', 'GarageCond', 'PavedDrive', 'PoolQC', 'MoSold', 'YrSold'],\n",
       "      dtype='object')"
      ]
     },
     "execution_count": 22,
     "metadata": {},
     "output_type": "execute_result"
    }
   ],
   "source": [
    "Y.columns"
   ]
  },
  {
   "cell_type": "code",
   "execution_count": 23,
   "metadata": {},
   "outputs": [
    {
     "data": {
      "text/html": [
       "<div>\n",
       "<style scoped>\n",
       "    .dataframe tbody tr th:only-of-type {\n",
       "        vertical-align: middle;\n",
       "    }\n",
       "\n",
       "    .dataframe tbody tr th {\n",
       "        vertical-align: top;\n",
       "    }\n",
       "\n",
       "    .dataframe thead th {\n",
       "        text-align: right;\n",
       "    }\n",
       "</style>\n",
       "<table border=\"1\" class=\"dataframe\">\n",
       "  <thead>\n",
       "    <tr style=\"text-align: right;\">\n",
       "      <th></th>\n",
       "      <th>MSZoning</th>\n",
       "      <th>Street</th>\n",
       "      <th>Utilities</th>\n",
       "      <th>LandSlope</th>\n",
       "      <th>Neighborhood</th>\n",
       "      <th>BldgType</th>\n",
       "      <th>HouseStyle</th>\n",
       "      <th>OverallQual</th>\n",
       "      <th>OverallCond</th>\n",
       "      <th>YearBuilt</th>\n",
       "      <th>...</th>\n",
       "      <th>TotRmsAbvGrd</th>\n",
       "      <th>Functional</th>\n",
       "      <th>GarageType</th>\n",
       "      <th>GarageCars</th>\n",
       "      <th>GarageQual</th>\n",
       "      <th>GarageCond</th>\n",
       "      <th>PavedDrive</th>\n",
       "      <th>PoolQC</th>\n",
       "      <th>MoSold</th>\n",
       "      <th>YrSold</th>\n",
       "    </tr>\n",
       "  </thead>\n",
       "  <tbody>\n",
       "    <tr>\n",
       "      <td>0</td>\n",
       "      <td>RL</td>\n",
       "      <td>Pave</td>\n",
       "      <td>AllPub</td>\n",
       "      <td>Gtl</td>\n",
       "      <td>CollgCr</td>\n",
       "      <td>1Fam</td>\n",
       "      <td>2Story</td>\n",
       "      <td>7</td>\n",
       "      <td>5</td>\n",
       "      <td>2003</td>\n",
       "      <td>...</td>\n",
       "      <td>8</td>\n",
       "      <td>Typ</td>\n",
       "      <td>Attchd</td>\n",
       "      <td>2.0</td>\n",
       "      <td>TA</td>\n",
       "      <td>TA</td>\n",
       "      <td>Y</td>\n",
       "      <td>Not Available</td>\n",
       "      <td>2</td>\n",
       "      <td>2008</td>\n",
       "    </tr>\n",
       "    <tr>\n",
       "      <td>1</td>\n",
       "      <td>RL</td>\n",
       "      <td>Pave</td>\n",
       "      <td>AllPub</td>\n",
       "      <td>Gtl</td>\n",
       "      <td>Veenker</td>\n",
       "      <td>1Fam</td>\n",
       "      <td>1Story</td>\n",
       "      <td>6</td>\n",
       "      <td>8</td>\n",
       "      <td>1976</td>\n",
       "      <td>...</td>\n",
       "      <td>6</td>\n",
       "      <td>Typ</td>\n",
       "      <td>Attchd</td>\n",
       "      <td>2.0</td>\n",
       "      <td>TA</td>\n",
       "      <td>TA</td>\n",
       "      <td>Y</td>\n",
       "      <td>Not Available</td>\n",
       "      <td>5</td>\n",
       "      <td>2007</td>\n",
       "    </tr>\n",
       "    <tr>\n",
       "      <td>2</td>\n",
       "      <td>RL</td>\n",
       "      <td>Pave</td>\n",
       "      <td>AllPub</td>\n",
       "      <td>Gtl</td>\n",
       "      <td>CollgCr</td>\n",
       "      <td>1Fam</td>\n",
       "      <td>2Story</td>\n",
       "      <td>7</td>\n",
       "      <td>5</td>\n",
       "      <td>2001</td>\n",
       "      <td>...</td>\n",
       "      <td>6</td>\n",
       "      <td>Typ</td>\n",
       "      <td>Attchd</td>\n",
       "      <td>2.0</td>\n",
       "      <td>TA</td>\n",
       "      <td>TA</td>\n",
       "      <td>Y</td>\n",
       "      <td>Not Available</td>\n",
       "      <td>9</td>\n",
       "      <td>2008</td>\n",
       "    </tr>\n",
       "    <tr>\n",
       "      <td>3</td>\n",
       "      <td>RL</td>\n",
       "      <td>Pave</td>\n",
       "      <td>AllPub</td>\n",
       "      <td>Gtl</td>\n",
       "      <td>Crawfor</td>\n",
       "      <td>1Fam</td>\n",
       "      <td>2Story</td>\n",
       "      <td>7</td>\n",
       "      <td>5</td>\n",
       "      <td>1915</td>\n",
       "      <td>...</td>\n",
       "      <td>7</td>\n",
       "      <td>Typ</td>\n",
       "      <td>Detchd</td>\n",
       "      <td>3.0</td>\n",
       "      <td>TA</td>\n",
       "      <td>TA</td>\n",
       "      <td>Y</td>\n",
       "      <td>Not Available</td>\n",
       "      <td>2</td>\n",
       "      <td>2006</td>\n",
       "    </tr>\n",
       "    <tr>\n",
       "      <td>4</td>\n",
       "      <td>RL</td>\n",
       "      <td>Pave</td>\n",
       "      <td>AllPub</td>\n",
       "      <td>Gtl</td>\n",
       "      <td>NoRidge</td>\n",
       "      <td>1Fam</td>\n",
       "      <td>2Story</td>\n",
       "      <td>8</td>\n",
       "      <td>5</td>\n",
       "      <td>2000</td>\n",
       "      <td>...</td>\n",
       "      <td>9</td>\n",
       "      <td>Typ</td>\n",
       "      <td>Attchd</td>\n",
       "      <td>3.0</td>\n",
       "      <td>TA</td>\n",
       "      <td>TA</td>\n",
       "      <td>Y</td>\n",
       "      <td>Not Available</td>\n",
       "      <td>12</td>\n",
       "      <td>2008</td>\n",
       "    </tr>\n",
       "  </tbody>\n",
       "</table>\n",
       "<p>5 rows × 35 columns</p>\n",
       "</div>"
      ],
      "text/plain": [
       "  MSZoning Street Utilities LandSlope Neighborhood BldgType HouseStyle  \\\n",
       "0       RL   Pave    AllPub       Gtl      CollgCr     1Fam     2Story   \n",
       "1       RL   Pave    AllPub       Gtl      Veenker     1Fam     1Story   \n",
       "2       RL   Pave    AllPub       Gtl      CollgCr     1Fam     2Story   \n",
       "3       RL   Pave    AllPub       Gtl      Crawfor     1Fam     2Story   \n",
       "4       RL   Pave    AllPub       Gtl      NoRidge     1Fam     2Story   \n",
       "\n",
       "   OverallQual  OverallCond  YearBuilt  ...  TotRmsAbvGrd Functional  \\\n",
       "0            7            5       2003  ...             8        Typ   \n",
       "1            6            8       1976  ...             6        Typ   \n",
       "2            7            5       2001  ...             6        Typ   \n",
       "3            7            5       1915  ...             7        Typ   \n",
       "4            8            5       2000  ...             9        Typ   \n",
       "\n",
       "  GarageType GarageCars GarageQual GarageCond PavedDrive         PoolQC  \\\n",
       "0     Attchd        2.0         TA         TA          Y  Not Available   \n",
       "1     Attchd        2.0         TA         TA          Y  Not Available   \n",
       "2     Attchd        2.0         TA         TA          Y  Not Available   \n",
       "3     Detchd        3.0         TA         TA          Y  Not Available   \n",
       "4     Attchd        3.0         TA         TA          Y  Not Available   \n",
       "\n",
       "   MoSold YrSold  \n",
       "0       2   2008  \n",
       "1       5   2007  \n",
       "2       9   2008  \n",
       "3       2   2006  \n",
       "4      12   2008  \n",
       "\n",
       "[5 rows x 35 columns]"
      ]
     },
     "execution_count": 23,
     "metadata": {},
     "output_type": "execute_result"
    }
   ],
   "source": [
    "#Concatenate both dataset row wise to create dummy variables\n",
    "combined_df = pd.concat([X_cleaned, Y], axis=0)\n",
    "combined_df.head()"
   ]
  },
  {
   "cell_type": "code",
   "execution_count": 24,
   "metadata": {},
   "outputs": [
    {
     "data": {
      "text/plain": [
       "(2919, 35)"
      ]
     },
     "execution_count": 24,
     "metadata": {},
     "output_type": "execute_result"
    }
   ],
   "source": [
    "combined_df.shape"
   ]
  },
  {
   "cell_type": "code",
   "execution_count": 25,
   "metadata": {
    "scrolled": true
   },
   "outputs": [],
   "source": [
    "combined_df = pd.get_dummies(combined_df, drop_first=True, columns=['MSZoning', 'Street', 'Utilities', 'LandSlope', 'Neighborhood',\n",
    "                                                                'BldgType', 'HouseStyle', 'ExterQual', 'ExterCond', 'Foundation', 'BsmtQual',\n",
    "                                                                'BsmtCond', 'BsmtExposure', 'BsmtFinType1','BsmtFinType2',\n",
    "                                                                'Functional','KitchenQual', 'GarageType', 'GarageQual',\n",
    "                                                               'GarageCond', 'PavedDrive', 'PoolQC'])"
   ]
  },
  {
   "cell_type": "code",
   "execution_count": 26,
   "metadata": {},
   "outputs": [
    {
     "data": {
      "text/plain": [
       "(2919, 122)"
      ]
     },
     "execution_count": 26,
     "metadata": {},
     "output_type": "execute_result"
    }
   ],
   "source": [
    "combined_df.shape"
   ]
  },
  {
   "cell_type": "code",
   "execution_count": 27,
   "metadata": {},
   "outputs": [],
   "source": [
    "#to check any duplicated columns are created\n",
    "combined_df = combined_df.loc[:, ~combined_df.columns.duplicated()]"
   ]
  },
  {
   "cell_type": "code",
   "execution_count": 28,
   "metadata": {},
   "outputs": [],
   "source": [
    "X_cleaned = combined_df.iloc[:1460,:]\n",
    "Y_encoded = combined_df.iloc[1460:,:]"
   ]
  },
  {
   "cell_type": "code",
   "execution_count": 29,
   "metadata": {},
   "outputs": [
    {
     "data": {
      "text/plain": [
       "(1460, 122)"
      ]
     },
     "execution_count": 29,
     "metadata": {},
     "output_type": "execute_result"
    }
   ],
   "source": [
    "X_cleaned.shape"
   ]
  },
  {
   "cell_type": "code",
   "execution_count": 30,
   "metadata": {},
   "outputs": [
    {
     "data": {
      "text/plain": [
       "(1459, 122)"
      ]
     },
     "execution_count": 30,
     "metadata": {},
     "output_type": "execute_result"
    }
   ],
   "source": [
    "Y_encoded.shape"
   ]
  },
  {
   "cell_type": "code",
   "execution_count": 31,
   "metadata": {},
   "outputs": [],
   "source": [
    "y_cleaned = y"
   ]
  },
  {
   "cell_type": "code",
   "execution_count": 32,
   "metadata": {},
   "outputs": [
    {
     "data": {
      "text/plain": [
       "0       208500\n",
       "1       181500\n",
       "2       223500\n",
       "3       140000\n",
       "4       250000\n",
       "         ...  \n",
       "1455    175000\n",
       "1456    210000\n",
       "1457    266500\n",
       "1458    142125\n",
       "1459    147500\n",
       "Name: SalePrice, Length: 1460, dtype: int64"
      ]
     },
     "execution_count": 32,
     "metadata": {},
     "output_type": "execute_result"
    }
   ],
   "source": [
    "y_cleaned"
   ]
  },
  {
   "cell_type": "markdown",
   "metadata": {},
   "source": [
    "### Split data into Training and Dev set"
   ]
  },
  {
   "cell_type": "code",
   "execution_count": 33,
   "metadata": {},
   "outputs": [],
   "source": [
    "from sklearn.model_selection import train_test_split\n",
    "X_train, X_test, y_train, y_test = train_test_split(X_cleaned, y_cleaned, test_size=.20, random_state = 0)"
   ]
  },
  {
   "cell_type": "code",
   "execution_count": 34,
   "metadata": {},
   "outputs": [],
   "source": [
    "from sklearn.preprocessing import StandardScaler\n",
    "scaler = StandardScaler()\n",
    "X_train = scaler.fit_transform(X_train)\n",
    "X_test = scaler.transform(X_test)\n",
    "Y_encoded = scaler.transform(Y_encoded)"
   ]
  },
  {
   "cell_type": "code",
   "execution_count": 35,
   "metadata": {},
   "outputs": [
    {
     "data": {
      "text/plain": [
       "122"
      ]
     },
     "execution_count": 35,
     "metadata": {},
     "output_type": "execute_result"
    }
   ],
   "source": [
    "X_train.shape[1]"
   ]
  },
  {
   "cell_type": "markdown",
   "metadata": {},
   "source": [
    "# ANN"
   ]
  },
  {
   "cell_type": "code",
   "execution_count": 36,
   "metadata": {},
   "outputs": [
    {
     "name": "stderr",
     "output_type": "stream",
     "text": [
      "Using TensorFlow backend.\n"
     ]
    }
   ],
   "source": [
    "from keras.models import Sequential\n",
    "from keras.layers import Dense, Dropout"
   ]
  },
  {
   "cell_type": "code",
   "execution_count": 37,
   "metadata": {},
   "outputs": [
    {
     "name": "stdout",
     "output_type": "stream",
     "text": [
      "WARNING:tensorflow:From D:\\Anaconda\\lib\\site-packages\\tensorflow_core\\python\\ops\\resource_variable_ops.py:1630: calling BaseResourceVariable.__init__ (from tensorflow.python.ops.resource_variable_ops) with constraint is deprecated and will be removed in a future version.\n",
      "Instructions for updating:\n",
      "If using Keras pass *_constraint arguments to layers.\n"
     ]
    }
   ],
   "source": [
    "model = Sequential()\n",
    "model.add(Dense(20, activation = 'relu', input_shape=(X_train.shape[1],)))\n",
    "model.add(Dense(128, activation = 'relu'))\n",
    "model.add(Dropout(0.5))\n",
    "model.add(Dense(32, activation = 'relu'))\n",
    "model.add(Dropout(0.2))\n",
    "model.add(Dense(1))"
   ]
  },
  {
   "cell_type": "code",
   "execution_count": 38,
   "metadata": {},
   "outputs": [
    {
     "name": "stdout",
     "output_type": "stream",
     "text": [
      "Model: \"sequential_1\"\n",
      "_________________________________________________________________\n",
      "Layer (type)                 Output Shape              Param #   \n",
      "=================================================================\n",
      "dense_1 (Dense)              (None, 20)                2460      \n",
      "_________________________________________________________________\n",
      "dense_2 (Dense)              (None, 128)               2688      \n",
      "_________________________________________________________________\n",
      "dropout_1 (Dropout)          (None, 128)               0         \n",
      "_________________________________________________________________\n",
      "dense_3 (Dense)              (None, 32)                4128      \n",
      "_________________________________________________________________\n",
      "dropout_2 (Dropout)          (None, 32)                0         \n",
      "_________________________________________________________________\n",
      "dense_4 (Dense)              (None, 1)                 33        \n",
      "=================================================================\n",
      "Total params: 9,309\n",
      "Trainable params: 9,309\n",
      "Non-trainable params: 0\n",
      "_________________________________________________________________\n"
     ]
    }
   ],
   "source": [
    "model.summary()"
   ]
  },
  {
   "cell_type": "code",
   "execution_count": 39,
   "metadata": {},
   "outputs": [],
   "source": [
    "model.compile(optimizer = 'Adam', loss = 'mean_squared_error', metrics = ['mean_squared_error'])"
   ]
  },
  {
   "cell_type": "code",
   "execution_count": 40,
   "metadata": {},
   "outputs": [],
   "source": [
    "from keras.callbacks import EarlyStopping\n",
    "early_stop = EarlyStopping(monitor='val_loss', mode='min', verbose=1, patience=10)"
   ]
  },
  {
   "cell_type": "code",
   "execution_count": 41,
   "metadata": {},
   "outputs": [
    {
     "name": "stdout",
     "output_type": "stream",
     "text": [
      "WARNING:tensorflow:From D:\\Anaconda\\lib\\site-packages\\keras\\backend\\tensorflow_backend.py:422: The name tf.global_variables is deprecated. Please use tf.compat.v1.global_variables instead.\n",
      "\n",
      "Train on 1168 samples, validate on 292 samples\n",
      "Epoch 1/250\n",
      "1168/1168 [==============================] - 1s 695us/step - loss: 38847677930.9589 - mean_squared_error: 38847680512.0000 - val_loss: 39797599638.7945 - val_mean_squared_error: 39797600256.0000\n",
      "Epoch 2/250\n",
      "1168/1168 [==============================] - 0s 94us/step - loss: 38836721523.7260 - mean_squared_error: 38836719616.0000 - val_loss: 39769285056.8767 - val_mean_squared_error: 39769288704.0000\n",
      "Epoch 3/250\n",
      "1168/1168 [==============================] - 0s 93us/step - loss: 38761126982.1370 - mean_squared_error: 38761119744.0000 - val_loss: 39603732928.8767 - val_mean_squared_error: 39603732480.0000\n",
      "Epoch 4/250\n",
      "1168/1168 [==============================] - 0s 97us/step - loss: 38411020989.3699 - mean_squared_error: 38411010048.0000 - val_loss: 38984396631.6712 - val_mean_squared_error: 38984396800.0000\n",
      "Epoch 5/250\n",
      "1168/1168 [==============================] - 0s 94us/step - loss: 37417997073.5342 - mean_squared_error: 37418000384.0000 - val_loss: 37399481863.0137 - val_mean_squared_error: 37399482368.0000\n",
      "Epoch 6/250\n",
      "1168/1168 [==============================] - 0s 96us/step - loss: 35151159997.3699 - mean_squared_error: 35151159296.0000 - val_loss: 34224376004.3836 - val_mean_squared_error: 34224377856.0000\n",
      "Epoch 7/250\n",
      "1168/1168 [==============================] - 0s 93us/step - loss: 30975808161.3151 - mean_squared_error: 30975811584.0000 - val_loss: 28899954183.0137 - val_mean_squared_error: 28899956736.0000\n",
      "Epoch 8/250\n",
      "1168/1168 [==============================] - 0s 91us/step - loss: 24752927729.9726 - mean_squared_error: 24752934912.0000 - val_loss: 21953912719.7808 - val_mean_squared_error: 21953912832.0000\n",
      "Epoch 9/250\n",
      "1168/1168 [==============================] - 0s 91us/step - loss: 17741565881.8630 - mean_squared_error: 17741565952.0000 - val_loss: 14729017596.4932 - val_mean_squared_error: 14729017344.0000\n",
      "Epoch 10/250\n",
      "1168/1168 [==============================] - 0s 92us/step - loss: 11669033170.4110 - mean_squared_error: 11669031936.0000 - val_loss: 9441824319.1233 - val_mean_squared_error: 9441823744.0000\n",
      "Epoch 11/250\n",
      "1168/1168 [==============================] - 0s 92us/step - loss: 7614094111.5616 - mean_squared_error: 7614094336.0000 - val_loss: 6616932927.1233 - val_mean_squared_error: 6616932352.0000\n",
      "Epoch 12/250\n",
      "1168/1168 [==============================] - 0s 91us/step - loss: 6233407719.4521 - mean_squared_error: 6233408512.0000 - val_loss: 5324527167.1233 - val_mean_squared_error: 5324527104.0000\n",
      "Epoch 13/250\n",
      "1168/1168 [==============================] - 0s 93us/step - loss: 4934932402.8493 - mean_squared_error: 4934931968.0000 - val_loss: 4521504501.4795 - val_mean_squared_error: 4521504256.0000\n",
      "Epoch 14/250\n",
      "1168/1168 [==============================] - 0s 92us/step - loss: 4155689044.1644 - mean_squared_error: 4155688960.0000 - val_loss: 3934854087.8904 - val_mean_squared_error: 3934853632.0000\n",
      "Epoch 15/250\n",
      "1168/1168 [==============================] - 0s 91us/step - loss: 3739097792.8767 - mean_squared_error: 3739097600.0000 - val_loss: 3548860401.9726 - val_mean_squared_error: 3548860416.0000\n",
      "Epoch 16/250\n",
      "1168/1168 [==============================] - 0s 93us/step - loss: 3612688990.6849 - mean_squared_error: 3612689152.0000 - val_loss: 3324921722.7397 - val_mean_squared_error: 3324922112.0000\n",
      "Epoch 17/250\n",
      "1168/1168 [==============================] - 0s 101us/step - loss: 3275829209.4247 - mean_squared_error: 3275829760.0000 - val_loss: 3122861154.1918 - val_mean_squared_error: 3122861056.0000\n",
      "Epoch 18/250\n",
      "1168/1168 [==============================] - 0s 98us/step - loss: 2959500635.1781 - mean_squared_error: 2959500800.0000 - val_loss: 2991237624.9863 - val_mean_squared_error: 2991237632.0000\n",
      "Epoch 19/250\n",
      "1168/1168 [==============================] - 0s 100us/step - loss: 2897439203.9452 - mean_squared_error: 2897438720.0000 - val_loss: 2879456880.2192 - val_mean_squared_error: 2879457024.0000\n",
      "Epoch 20/250\n",
      "1168/1168 [==============================] - 0s 102us/step - loss: 2831681627.1781 - mean_squared_error: 2831681792.0000 - val_loss: 2811205218.1918 - val_mean_squared_error: 2811205376.0000\n",
      "Epoch 21/250\n",
      "1168/1168 [==============================] - 0s 110us/step - loss: 2731366210.6301 - mean_squared_error: 2731366144.0000 - val_loss: 2781515986.4110 - val_mean_squared_error: 2781516288.0000\n",
      "Epoch 22/250\n",
      "1168/1168 [==============================] - 0s 102us/step - loss: 2655447227.6164 - mean_squared_error: 2655447296.0000 - val_loss: 2723872480.4384 - val_mean_squared_error: 2723872256.0000\n",
      "Epoch 23/250\n",
      "1168/1168 [==============================] - 0s 96us/step - loss: 2602839018.9589 - mean_squared_error: 2602839552.0000 - val_loss: 2689340261.6986 - val_mean_squared_error: 2689340160.0000\n",
      "Epoch 24/250\n",
      "1168/1168 [==============================] - 0s 92us/step - loss: 2416248602.3014 - mean_squared_error: 2416248832.0000 - val_loss: 2599284483.5068 - val_mean_squared_error: 2599284224.0000\n",
      "Epoch 25/250\n",
      "1168/1168 [==============================] - 0s 96us/step - loss: 2572815538.8493 - mean_squared_error: 2572815104.0000 - val_loss: 2562317711.7808 - val_mean_squared_error: 2562317824.0000\n",
      "Epoch 26/250\n",
      "1168/1168 [==============================] - 0s 92us/step - loss: 2447695714.1918 - mean_squared_error: 2447695872.0000 - val_loss: 2548985982.2466 - val_mean_squared_error: 2548985856.0000\n",
      "Epoch 27/250\n",
      "1168/1168 [==============================] - 0s 92us/step - loss: 2421676358.1370 - mean_squared_error: 2421676544.0000 - val_loss: 2498445220.8219 - val_mean_squared_error: 2498445312.0000\n",
      "Epoch 28/250\n",
      "1168/1168 [==============================] - 0s 103us/step - loss: 2279300625.5342 - mean_squared_error: 2279300608.0000 - val_loss: 2476371294.6849 - val_mean_squared_error: 2476371456.0000\n",
      "Epoch 29/250\n",
      "1168/1168 [==============================] - 0s 108us/step - loss: 2249239562.5205 - mean_squared_error: 2249239552.0000 - val_loss: 2471983482.7397 - val_mean_squared_error: 2471983360.0000\n",
      "Epoch 30/250\n",
      "1168/1168 [==============================] - ETA: 0s - loss: 2269204313.6000 - mean_squared_error: 2269204480.00 - 0s 95us/step - loss: 2372443702.3562 - mean_squared_error: 2372443648.0000 - val_loss: 2439592451.5068 - val_mean_squared_error: 2439592448.0000\n",
      "Epoch 31/250\n",
      "1168/1168 [==============================] - 0s 97us/step - loss: 2427137960.3288 - mean_squared_error: 2427138048.0000 - val_loss: 2410687936.8767 - val_mean_squared_error: 2410688000.0000\n",
      "Epoch 32/250\n",
      "1168/1168 [==============================] - 0s 93us/step - loss: 2110927870.2466 - mean_squared_error: 2110927744.0000 - val_loss: 2374238229.0411 - val_mean_squared_error: 2374238464.0000\n",
      "Epoch 33/250\n",
      "1168/1168 [==============================] - 0s 95us/step - loss: 2234243391.1233 - mean_squared_error: 2234243328.0000 - val_loss: 2385272018.4110 - val_mean_squared_error: 2385272064.0000\n",
      "Epoch 34/250\n",
      "1168/1168 [==============================] - 0s 91us/step - loss: 2178540817.5342 - mean_squared_error: 2178541056.0000 - val_loss: 2312708488.7671 - val_mean_squared_error: 2312708352.0000\n",
      "Epoch 35/250\n",
      "1168/1168 [==============================] - 0s 92us/step - loss: 2093830864.6575 - mean_squared_error: 2093831040.0000 - val_loss: 2298453668.8219 - val_mean_squared_error: 2298453760.0000\n",
      "Epoch 36/250\n",
      "1168/1168 [==============================] - 0s 93us/step - loss: 2071037668.8219 - mean_squared_error: 2071037440.0000 - val_loss: 2274479896.5479 - val_mean_squared_error: 2274479872.0000\n",
      "Epoch 37/250\n",
      "1168/1168 [==============================] - 0s 91us/step - loss: 2027512698.7397 - mean_squared_error: 2027513088.0000 - val_loss: 2300243925.9178 - val_mean_squared_error: 2300243712.0000\n",
      "Epoch 38/250\n",
      "1168/1168 [==============================] - 0s 90us/step - loss: 1920809635.0685 - mean_squared_error: 1920809600.0000 - val_loss: 2253553671.0137 - val_mean_squared_error: 2253553664.0000\n",
      "Epoch 39/250\n",
      "1168/1168 [==============================] - 0s 92us/step - loss: 1841993376.4384 - mean_squared_error: 1841993344.0000 - val_loss: 2247676584.3288 - val_mean_squared_error: 2247676416.0000\n",
      "Epoch 40/250\n",
      "1168/1168 [==============================] - 0s 91us/step - loss: 2061846210.6301 - mean_squared_error: 2061846016.0000 - val_loss: 2212808437.4795 - val_mean_squared_error: 2212808192.0000\n",
      "Epoch 41/250\n",
      "1168/1168 [==============================] - 0s 89us/step - loss: 2032716438.7945 - mean_squared_error: 2032716672.0000 - val_loss: 2205793977.8630 - val_mean_squared_error: 2205793792.0000\n",
      "Epoch 42/250\n",
      "1168/1168 [==============================] - 0s 89us/step - loss: 1901298219.8356 - mean_squared_error: 1901298304.0000 - val_loss: 2205699885.5890 - val_mean_squared_error: 2205700096.0000\n",
      "Epoch 43/250\n",
      "1168/1168 [==============================] - 0s 89us/step - loss: 1916057013.4795 - mean_squared_error: 1916056960.0000 - val_loss: 2165785757.8082 - val_mean_squared_error: 2165785600.0000\n",
      "Epoch 44/250\n",
      "1168/1168 [==============================] - 0s 91us/step - loss: 2031333835.3973 - mean_squared_error: 2031334144.0000 - val_loss: 2135466916.8219 - val_mean_squared_error: 2135466752.0000\n",
      "Epoch 45/250\n",
      "1168/1168 [==============================] - 0s 91us/step - loss: 1999034519.6712 - mean_squared_error: 1999034752.0000 - val_loss: 2138027085.1507 - val_mean_squared_error: 2138026880.0000\n",
      "Epoch 46/250\n",
      "1168/1168 [==============================] - 0s 91us/step - loss: 1903143820.2740 - mean_squared_error: 1903143680.0000 - val_loss: 2135312734.6849 - val_mean_squared_error: 2135312768.0000\n",
      "Epoch 47/250\n",
      "1168/1168 [==============================] - 0s 88us/step - loss: 1946695483.6164 - mean_squared_error: 1946695424.0000 - val_loss: 2121418366.2466 - val_mean_squared_error: 2121418240.0000\n",
      "Epoch 48/250\n",
      "1168/1168 [==============================] - 0s 89us/step - loss: 1890103379.2877 - mean_squared_error: 1890103296.0000 - val_loss: 2115368960.0000 - val_mean_squared_error: 2115368960.0000\n",
      "Epoch 49/250\n",
      "1168/1168 [==============================] - 0s 89us/step - loss: 1850516050.4110 - mean_squared_error: 1850515968.0000 - val_loss: 2094924572.0548 - val_mean_squared_error: 2094924416.0000\n",
      "Epoch 50/250\n",
      "1168/1168 [==============================] - 0s 91us/step - loss: 1811424256.0000 - mean_squared_error: 1811424512.0000 - val_loss: 2101759957.9178 - val_mean_squared_error: 2101759744.0000\n",
      "Epoch 51/250\n",
      "1168/1168 [==============================] - 0s 91us/step - loss: 2045187458.6301 - mean_squared_error: 2045187072.0000 - val_loss: 2066935117.1507 - val_mean_squared_error: 2066935168.0000\n",
      "Epoch 52/250\n",
      "1168/1168 [==============================] - 0s 90us/step - loss: 1887945208.9863 - mean_squared_error: 1887945216.0000 - val_loss: 2064160256.0000 - val_mean_squared_error: 2064160512.0000\n",
      "Epoch 53/250\n",
      "1168/1168 [==============================] - 0s 98us/step - loss: 1907066385.5342 - mean_squared_error: 1907066368.0000 - val_loss: 2033312434.8493 - val_mean_squared_error: 2033312256.0000\n",
      "Epoch 54/250\n",
      "1168/1168 [==============================] - 0s 90us/step - loss: 1868426580.1644 - mean_squared_error: 1868426368.0000 - val_loss: 2058384664.5479 - val_mean_squared_error: 2058384512.0000\n",
      "Epoch 55/250\n",
      "1168/1168 [==============================] - 0s 90us/step - loss: 1779107489.3151 - mean_squared_error: 1779107328.0000 - val_loss: 2036337034.5205 - val_mean_squared_error: 2036337024.0000\n",
      "Epoch 56/250\n",
      "1168/1168 [==============================] - 0s 89us/step - loss: 1775658618.7397 - mean_squared_error: 1775658624.0000 - val_loss: 2020137677.1507 - val_mean_squared_error: 2020137728.0000\n",
      "Epoch 57/250\n",
      "1168/1168 [==============================] - 0s 91us/step - loss: 1756082048.0000 - mean_squared_error: 1756082048.0000 - val_loss: 2029973940.6027 - val_mean_squared_error: 2029974016.0000\n",
      "Epoch 58/250\n",
      "1168/1168 [==============================] - 0s 91us/step - loss: 1890817818.3014 - mean_squared_error: 1890817792.0000 - val_loss: 2052017865.6438 - val_mean_squared_error: 2052017920.0000\n",
      "Epoch 59/250\n",
      "1168/1168 [==============================] - 0s 92us/step - loss: 1796129052.0548 - mean_squared_error: 1796129280.0000 - val_loss: 2017849496.5479 - val_mean_squared_error: 2017849344.0000\n",
      "Epoch 60/250\n",
      "1168/1168 [==============================] - 0s 90us/step - loss: 1716639843.9452 - mean_squared_error: 1716639744.0000 - val_loss: 2051680683.8356 - val_mean_squared_error: 2051680768.0000\n",
      "Epoch 61/250\n",
      "1168/1168 [==============================] - 0s 89us/step - loss: 1850337074.8493 - mean_squared_error: 1850337408.0000 - val_loss: 2000222611.2877 - val_mean_squared_error: 2000222464.0000\n",
      "Epoch 62/250\n",
      "1168/1168 [==============================] - 0s 90us/step - loss: 1545566234.3014 - mean_squared_error: 1545565952.0000 - val_loss: 2000053321.6438 - val_mean_squared_error: 2000053504.0000\n",
      "Epoch 63/250\n",
      "1168/1168 [==============================] - 0s 90us/step - loss: 1906522588.9315 - mean_squared_error: 1906522624.0000 - val_loss: 2008420604.4932 - val_mean_squared_error: 2008420736.0000\n",
      "Epoch 64/250\n",
      "1168/1168 [==============================] - 0s 91us/step - loss: 1723178196.1644 - mean_squared_error: 1723178112.0000 - val_loss: 1982696405.9178 - val_mean_squared_error: 1982696320.0000\n",
      "Epoch 65/250\n",
      "1168/1168 [==============================] - 0s 89us/step - loss: 1594340978.8493 - mean_squared_error: 1594340992.0000 - val_loss: 1958196841.2055 - val_mean_squared_error: 1958196864.0000\n",
      "Epoch 66/250\n",
      "1168/1168 [==============================] - 0s 88us/step - loss: 1753344946.8493 - mean_squared_error: 1753345152.0000 - val_loss: 1959571584.0000 - val_mean_squared_error: 1959571712.0000\n",
      "Epoch 67/250\n",
      "1168/1168 [==============================] - 0s 91us/step - loss: 1626582038.7945 - mean_squared_error: 1626582144.0000 - val_loss: 1981340906.9589 - val_mean_squared_error: 1981340928.0000\n",
      "Epoch 68/250\n",
      "1168/1168 [==============================] - 0s 91us/step - loss: 1705761009.0959 - mean_squared_error: 1705761280.0000 - val_loss: 1951716127.5616 - val_mean_squared_error: 1951716224.0000\n",
      "Epoch 69/250\n",
      "1168/1168 [==============================] - 0s 91us/step - loss: 1660335484.4932 - mean_squared_error: 1660335616.0000 - val_loss: 1956867755.8356 - val_mean_squared_error: 1956867712.0000\n",
      "Epoch 70/250\n",
      "1168/1168 [==============================] - 0s 99us/step - loss: 1787082371.5068 - mean_squared_error: 1787082112.0000 - val_loss: 1964192850.4110 - val_mean_squared_error: 1964192896.0000\n",
      "Epoch 71/250\n",
      "1168/1168 [==============================] - 0s 109us/step - loss: 1648025929.6438 - mean_squared_error: 1648025856.0000 - val_loss: 1953306578.4110 - val_mean_squared_error: 1953306496.0000\n",
      "Epoch 72/250\n",
      "1168/1168 [==============================] - 0s 95us/step - loss: 1653967182.9041 - mean_squared_error: 1653966848.0000 - val_loss: 1924508075.8356 - val_mean_squared_error: 1924507904.0000\n",
      "Epoch 73/250\n",
      "1168/1168 [==============================] - 0s 92us/step - loss: 1805971548.9315 - mean_squared_error: 1805971712.0000 - val_loss: 1950057394.8493 - val_mean_squared_error: 1950057344.0000\n",
      "Epoch 74/250\n",
      "1168/1168 [==============================] - 0s 100us/step - loss: 1543561862.1370 - mean_squared_error: 1543561856.0000 - val_loss: 1900270679.6712 - val_mean_squared_error: 1900270592.0000\n",
      "Epoch 75/250\n",
      "1168/1168 [==============================] - 0s 102us/step - loss: 1699235466.5205 - mean_squared_error: 1699235584.0000 - val_loss: 1904236638.6849 - val_mean_squared_error: 1904236672.0000\n",
      "Epoch 76/250\n",
      "1168/1168 [==============================] - 0s 95us/step - loss: 1546522946.6301 - mean_squared_error: 1546523008.0000 - val_loss: 1923810924.7123 - val_mean_squared_error: 1923810816.0000\n",
      "Epoch 77/250\n",
      "1168/1168 [==============================] - 0s 90us/step - loss: 1553349181.3699 - mean_squared_error: 1553349248.0000 - val_loss: 1893496726.7945 - val_mean_squared_error: 1893496576.0000\n",
      "Epoch 78/250\n",
      "1168/1168 [==============================] - 0s 89us/step - loss: 1570221206.7945 - mean_squared_error: 1570221184.0000 - val_loss: 1861081933.1507 - val_mean_squared_error: 1861081856.0000\n",
      "Epoch 79/250\n",
      "1168/1168 [==============================] - 0s 91us/step - loss: 1591287350.3562 - mean_squared_error: 1591287296.0000 - val_loss: 1863388933.2603 - val_mean_squared_error: 1863389056.0000\n",
      "Epoch 80/250\n",
      "1168/1168 [==============================] - 0s 89us/step - loss: 1523500546.6301 - mean_squared_error: 1523500416.0000 - val_loss: 1861287827.2877 - val_mean_squared_error: 1861287936.0000\n",
      "Epoch 81/250\n",
      "1168/1168 [==============================] - 0s 91us/step - loss: 1478603185.9726 - mean_squared_error: 1478602880.0000 - val_loss: 1862018398.6849 - val_mean_squared_error: 1862018688.0000\n",
      "Epoch 82/250\n",
      "1168/1168 [==============================] - 0s 91us/step - loss: 1586313870.0274 - mean_squared_error: 1586313984.0000 - val_loss: 1868844845.5890 - val_mean_squared_error: 1868844928.0000\n",
      "Epoch 83/250\n",
      "1168/1168 [==============================] - 0s 89us/step - loss: 1614367053.1507 - mean_squared_error: 1614367104.0000 - val_loss: 1838162168.9863 - val_mean_squared_error: 1838162176.0000\n",
      "Epoch 84/250\n",
      "1168/1168 [==============================] - 0s 91us/step - loss: 1462024325.2603 - mean_squared_error: 1462024448.0000 - val_loss: 1845218770.4110 - val_mean_squared_error: 1845218560.0000\n",
      "Epoch 85/250\n",
      "1168/1168 [==============================] - 0s 91us/step - loss: 1737920967.8904 - mean_squared_error: 1737920640.0000 - val_loss: 1847050559.1233 - val_mean_squared_error: 1847050624.0000\n",
      "Epoch 86/250\n",
      "1168/1168 [==============================] - 0s 91us/step - loss: 1597734359.6712 - mean_squared_error: 1597734400.0000 - val_loss: 1838668687.7808 - val_mean_squared_error: 1838668544.0000\n",
      "Epoch 87/250\n",
      "1168/1168 [==============================] - 0s 89us/step - loss: 1625769568.4384 - mean_squared_error: 1625769600.0000 - val_loss: 1841449198.4658 - val_mean_squared_error: 1841449216.0000\n",
      "Epoch 88/250\n",
      "1168/1168 [==============================] - 0s 89us/step - loss: 1749492504.5479 - mean_squared_error: 1749492224.0000 - val_loss: 1812314718.6849 - val_mean_squared_error: 1812314752.0000\n",
      "Epoch 89/250\n",
      "1168/1168 [==============================] - 0s 88us/step - loss: 1512569519.3425 - mean_squared_error: 1512569472.0000 - val_loss: 1843514459.1781 - val_mean_squared_error: 1843514496.0000\n",
      "Epoch 90/250\n",
      "1168/1168 [==============================] - 0s 91us/step - loss: 1504708875.3973 - mean_squared_error: 1504708864.0000 - val_loss: 1808097495.6712 - val_mean_squared_error: 1808097664.0000\n",
      "Epoch 91/250\n",
      "1168/1168 [==============================] - 0s 91us/step - loss: 1498391322.3014 - mean_squared_error: 1498391424.0000 - val_loss: 1848781178.7397 - val_mean_squared_error: 1848781056.0000\n",
      "Epoch 92/250\n",
      "1168/1168 [==============================] - 0s 91us/step - loss: 1435452905.2055 - mean_squared_error: 1435452800.0000 - val_loss: 1853844702.6849 - val_mean_squared_error: 1853844736.0000\n",
      "Epoch 93/250\n",
      "1168/1168 [==============================] - 0s 89us/step - loss: 1702935567.7808 - mean_squared_error: 1702935552.0000 - val_loss: 1860347756.7123 - val_mean_squared_error: 1860347776.0000\n",
      "Epoch 94/250\n",
      "1168/1168 [==============================] - 0s 89us/step - loss: 1497367457.3151 - mean_squared_error: 1497367296.0000 - val_loss: 1818707261.3699 - val_mean_squared_error: 1818707328.0000\n",
      "Epoch 95/250\n",
      "1168/1168 [==============================] - 0s 91us/step - loss: 1706248749.5890 - mean_squared_error: 1706248704.0000 - val_loss: 1844941448.7671 - val_mean_squared_error: 1844941440.0000\n",
      "Epoch 96/250\n",
      "1168/1168 [==============================] - 0s 91us/step - loss: 1643119128.5479 - mean_squared_error: 1643119104.0000 - val_loss: 1838758466.6301 - val_mean_squared_error: 1838758528.0000\n",
      "Epoch 97/250\n",
      "1168/1168 [==============================] - 0s 91us/step - loss: 1565111962.3014 - mean_squared_error: 1565112064.0000 - val_loss: 1871794677.4795 - val_mean_squared_error: 1871794688.0000\n",
      "Epoch 98/250\n",
      "1168/1168 [==============================] - 0s 90us/step - loss: 1527683368.3288 - mean_squared_error: 1527683712.0000 - val_loss: 1839872676.8219 - val_mean_squared_error: 1839872640.0000\n",
      "Epoch 99/250\n",
      "1168/1168 [==============================] - 0s 91us/step - loss: 1579217775.3425 - mean_squared_error: 1579217920.0000 - val_loss: 1799507482.3014 - val_mean_squared_error: 1799507456.0000\n",
      "Epoch 100/250\n",
      "1168/1168 [==============================] - 0s 91us/step - loss: 1528999599.3425 - mean_squared_error: 1528999552.0000 - val_loss: 1800462676.1644 - val_mean_squared_error: 1800462848.0000\n",
      "Epoch 101/250\n",
      "1168/1168 [==============================] - 0s 91us/step - loss: 1475498915.0685 - mean_squared_error: 1475499136.0000 - val_loss: 1774668316.0548 - val_mean_squared_error: 1774668288.0000\n",
      "Epoch 102/250\n",
      "1168/1168 [==============================] - 0s 89us/step - loss: 1507952501.4795 - mean_squared_error: 1507952768.0000 - val_loss: 1788837260.2740 - val_mean_squared_error: 1788837248.0000\n",
      "Epoch 103/250\n",
      "1168/1168 [==============================] - 0s 89us/step - loss: 1642828320.4384 - mean_squared_error: 1642828416.0000 - val_loss: 1809527460.8219 - val_mean_squared_error: 1809527424.0000\n",
      "Epoch 104/250\n",
      "1168/1168 [==============================] - 0s 89us/step - loss: 1581066428.4932 - mean_squared_error: 1581066496.0000 - val_loss: 1787892138.0822 - val_mean_squared_error: 1787892224.0000\n",
      "Epoch 105/250\n",
      "1168/1168 [==============================] - 0s 91us/step - loss: 1625509897.6438 - mean_squared_error: 1625509888.0000 - val_loss: 1782195354.3014 - val_mean_squared_error: 1782195456.0000\n",
      "Epoch 106/250\n",
      "1168/1168 [==============================] - 0s 88us/step - loss: 1437125593.4247 - mean_squared_error: 1437125760.0000 - val_loss: 1792631346.8493 - val_mean_squared_error: 1792631296.0000\n",
      "Epoch 107/250\n",
      "1168/1168 [==============================] - 0s 90us/step - loss: 1655339932.0548 - mean_squared_error: 1655340160.0000 - val_loss: 1770706817.7534 - val_mean_squared_error: 1770706688.0000\n",
      "Epoch 108/250\n",
      "1168/1168 [==============================] - 0s 89us/step - loss: 1547054805.9178 - mean_squared_error: 1547054976.0000 - val_loss: 1775510938.3014 - val_mean_squared_error: 1775510912.0000\n",
      "Epoch 109/250\n",
      "1168/1168 [==============================] - 0s 89us/step - loss: 1610431580.9315 - mean_squared_error: 1610431616.0000 - val_loss: 1777604199.4521 - val_mean_squared_error: 1777604224.0000\n",
      "Epoch 110/250\n",
      "1168/1168 [==============================] - 0s 89us/step - loss: 1483045384.7671 - mean_squared_error: 1483045248.0000 - val_loss: 1788028952.5479 - val_mean_squared_error: 1788028928.0000\n",
      "Epoch 111/250\n",
      "1168/1168 [==============================] - 0s 90us/step - loss: 1645567994.7397 - mean_squared_error: 1645568256.0000 - val_loss: 1754376277.9178 - val_mean_squared_error: 1754376448.0000\n",
      "Epoch 112/250\n",
      "1168/1168 [==============================] - 0s 89us/step - loss: 1519464269.1507 - mean_squared_error: 1519464192.0000 - val_loss: 1786517525.0411 - val_mean_squared_error: 1786517248.0000\n",
      "Epoch 113/250\n",
      "1168/1168 [==============================] - 0s 91us/step - loss: 1414900508.0548 - mean_squared_error: 1414900352.0000 - val_loss: 1764395975.8904 - val_mean_squared_error: 1764396160.0000\n",
      "Epoch 114/250\n",
      "1168/1168 [==============================] - 0s 89us/step - loss: 1460490759.0137 - mean_squared_error: 1460490880.0000 - val_loss: 1762985650.8493 - val_mean_squared_error: 1762985600.0000\n",
      "Epoch 115/250\n",
      "1168/1168 [==============================] - 0s 88us/step - loss: 1488557331.2877 - mean_squared_error: 1488557440.0000 - val_loss: 1792255424.8767 - val_mean_squared_error: 1792255616.0000\n",
      "Epoch 116/250\n",
      "1168/1168 [==============================] - 0s 90us/step - loss: 1659375805.3699 - mean_squared_error: 1659375616.0000 - val_loss: 1763073013.4795 - val_mean_squared_error: 1763073152.0000\n",
      "Epoch 117/250\n",
      "1168/1168 [==============================] - 0s 90us/step - loss: 1497207205.6986 - mean_squared_error: 1497207040.0000 - val_loss: 1768266127.7808 - val_mean_squared_error: 1768266112.0000\n",
      "Epoch 118/250\n",
      "1168/1168 [==============================] - 0s 89us/step - loss: 1434188063.5616 - mean_squared_error: 1434188160.0000 - val_loss: 1732211619.0685 - val_mean_squared_error: 1732211584.0000\n",
      "Epoch 119/250\n",
      "1168/1168 [==============================] - 0s 91us/step - loss: 1533027694.9041 - mean_squared_error: 1533027840.0000 - val_loss: 1724323392.8767 - val_mean_squared_error: 1724323456.0000\n",
      "Epoch 120/250\n",
      "1168/1168 [==============================] - 0s 90us/step - loss: 1503346171.6164 - mean_squared_error: 1503346304.0000 - val_loss: 1726643385.8630 - val_mean_squared_error: 1726643200.0000\n",
      "Epoch 121/250\n",
      "1168/1168 [==============================] - 0s 90us/step - loss: 1356313945.4247 - mean_squared_error: 1356314112.0000 - val_loss: 1714105848.9863 - val_mean_squared_error: 1714105856.0000\n",
      "Epoch 122/250\n",
      "1168/1168 [==============================] - 0s 91us/step - loss: 1438621243.6164 - mean_squared_error: 1438621184.0000 - val_loss: 1732367303.8904 - val_mean_squared_error: 1732367232.0000\n",
      "Epoch 123/250\n",
      "1168/1168 [==============================] - 0s 91us/step - loss: 1476420759.2329 - mean_squared_error: 1476420736.0000 - val_loss: 1745240351.5616 - val_mean_squared_error: 1745240448.0000\n",
      "Epoch 124/250\n",
      "1168/1168 [==============================] - 0s 91us/step - loss: 1593127834.3014 - mean_squared_error: 1593127680.0000 - val_loss: 1748300866.6301 - val_mean_squared_error: 1748300800.0000\n",
      "Epoch 125/250\n",
      "1168/1168 [==============================] - 0s 89us/step - loss: 1483771744.4384 - mean_squared_error: 1483771520.0000 - val_loss: 1765987219.2877 - val_mean_squared_error: 1765987200.0000\n",
      "Epoch 126/250\n",
      "1168/1168 [==============================] - 0s 89us/step - loss: 1439056008.7671 - mean_squared_error: 1439056128.0000 - val_loss: 1741903137.3151 - val_mean_squared_error: 1741903232.0000\n",
      "Epoch 127/250\n",
      "1168/1168 [==============================] - 0s 90us/step - loss: 1502895438.9041 - mean_squared_error: 1502895744.0000 - val_loss: 1743648147.2877 - val_mean_squared_error: 1743648256.0000\n",
      "Epoch 128/250\n",
      "1168/1168 [==============================] - 0s 90us/step - loss: 1504247609.8630 - mean_squared_error: 1504247424.0000 - val_loss: 1733624656.6575 - val_mean_squared_error: 1733624704.0000\n",
      "Epoch 129/250\n",
      "1168/1168 [==============================] - 0s 90us/step - loss: 1536824851.2877 - mean_squared_error: 1536824704.0000 - val_loss: 1715163223.6712 - val_mean_squared_error: 1715163264.0000\n",
      "Epoch 130/250\n",
      "1168/1168 [==============================] - 0s 89us/step - loss: 1673741262.0274 - mean_squared_error: 1673741312.0000 - val_loss: 1718619495.4521 - val_mean_squared_error: 1718619392.0000\n",
      "Epoch 131/250\n",
      "1168/1168 [==============================] - 0s 89us/step - loss: 1374045188.3836 - mean_squared_error: 1374044928.0000 - val_loss: 1741047625.6438 - val_mean_squared_error: 1741047552.0000\n",
      "Epoch 00131: early stopping\n"
     ]
    }
   ],
   "source": [
    "history = model.fit(x = X_train, y = y_train.to_numpy(), batch_size = 32, epochs = 250, validation_data=(X_test,y_test.to_numpy()), \n",
    "                   callbacks=[early_stop])"
   ]
  },
  {
   "cell_type": "code",
   "execution_count": 42,
   "metadata": {},
   "outputs": [],
   "source": [
    "from sklearn.metrics import mean_squared_error,mean_absolute_error\n",
    "predictions = model.predict(X_test)"
   ]
  },
  {
   "cell_type": "code",
   "execution_count": 43,
   "metadata": {},
   "outputs": [
    {
     "data": {
      "text/plain": [
       "25378.91768782106"
      ]
     },
     "execution_count": 43,
     "metadata": {},
     "output_type": "execute_result"
    }
   ],
   "source": [
    "mean_absolute_error(y_test,predictions)"
   ]
  },
  {
   "cell_type": "code",
   "execution_count": 44,
   "metadata": {},
   "outputs": [
    {
     "data": {
      "text/plain": [
       "41725.86265563272"
      ]
     },
     "execution_count": 44,
     "metadata": {},
     "output_type": "execute_result"
    }
   ],
   "source": [
    "np.sqrt(mean_squared_error(y_test,predictions))"
   ]
  },
  {
   "cell_type": "code",
   "execution_count": 45,
   "metadata": {},
   "outputs": [
    {
     "data": {
      "text/plain": [
       "<matplotlib.axes._subplots.AxesSubplot at 0x180c45f6088>"
      ]
     },
     "execution_count": 45,
     "metadata": {},
     "output_type": "execute_result"
    },
    {
     "data": {
      "image/png": "[encoded data removed]",
      "text/plain": [
       "<Figure size 432x288 with 1 Axes>"
      ]
     },
     "metadata": {
      "needs_background": "light"
     },
     "output_type": "display_data"
    }
   ],
   "source": [
    "losses = pd.DataFrame(model.history.history)\n",
    "losses.plot()"
   ]
  },
  {
   "cell_type": "code",
   "execution_count": 46,
   "metadata": {},
   "outputs": [
    {
     "name": "stdout",
     "output_type": "stream",
     "text": [
      "Evaluate on test data\n",
      "292/292 [==============================] - 0s 79us/step\n"
     ]
    },
    {
     "data": {
      "text/plain": [
       "[1741047612.2739725, 1741047808.0]"
      ]
     },
     "execution_count": 46,
     "metadata": {},
     "output_type": "execute_result"
    }
   ],
   "source": [
    "print(\"Evaluate on test data\")\n",
    "results = model.evaluate(X_test, y_test, batch_size=10)\n",
    "results"
   ]
  },
  {
   "cell_type": "code",
   "execution_count": 47,
   "metadata": {},
   "outputs": [
    {
     "data": {
      "text/plain": [
       "dict_keys(['val_loss', 'val_mean_squared_error', 'loss', 'mean_squared_error'])"
      ]
     },
     "execution_count": 47,
     "metadata": {},
     "output_type": "execute_result"
    }
   ],
   "source": [
    "history.history.keys()"
   ]
  },
  {
   "cell_type": "code",
   "execution_count": 48,
   "metadata": {},
   "outputs": [
    {
     "data": {
      "image/png": "[encoded data removed]",
      "text/plain": [
       "<Figure size 432x288 with 1 Axes>"
      ]
     },
     "metadata": {
      "needs_background": "light"
     },
     "output_type": "display_data"
    }
   ],
   "source": [
    "# summarize history for loss\n",
    "plt.plot(history.history['loss'])\n",
    "plt.plot(history.history['val_loss'])\n",
    "plt.title('model loss')\n",
    "plt.ylabel('loss')\n",
    "plt.xlabel('epoch')\n",
    "plt.legend(['train', 'dev'], loc='best')\n",
    "plt.show()"
   ]
  },
  {
   "cell_type": "code",
   "execution_count": 49,
   "metadata": {},
   "outputs": [
    {
     "data": {
      "image/png": "[encoded data removed]",
      "text/plain": [
       "<Figure size 432x288 with 1 Axes>"
      ]
     },
     "metadata": {
      "needs_background": "light"
     },
     "output_type": "display_data"
    }
   ],
   "source": [
    "# summarize history for mean_squared_error\n",
    "plt.plot(history.history['mean_squared_error'])\n",
    "plt.plot(history.history['val_mean_squared_error'])\n",
    "plt.title('model mean_squared_error')\n",
    "plt.ylabel('mean_squared_error')\n",
    "plt.xlabel('epoch')\n",
    "plt.legend(['train', 'dev'], loc='best')\n",
    "plt.show()"
   ]
  },
  {
   "cell_type": "markdown",
   "metadata": {},
   "source": [
    "# Predictions on given Test Set"
   ]
  },
  {
   "cell_type": "code",
   "execution_count": 50,
   "metadata": {},
   "outputs": [],
   "source": [
    "Test_set_predictions = model.predict(Y_encoded)"
   ]
  },
  {
   "cell_type": "code",
   "execution_count": 52,
   "metadata": {
    "scrolled": true
   },
   "outputs": [
    {
     "data": {
      "text/plain": [
       "numpy.ndarray"
      ]
     },
     "execution_count": 52,
     "metadata": {},
     "output_type": "execute_result"
    }
   ],
   "source": [
    "type(Test_set_predictions)"
   ]
  },
  {
   "cell_type": "code",
   "execution_count": 56,
   "metadata": {},
   "outputs": [
    {
     "data": {
      "text/plain": [
       "array([[113596.9 ],\n",
       "       [143734.81],\n",
       "       [182629.12],\n",
       "       ...,\n",
       "       [188424.  ],\n",
       "       [ 74683.84],\n",
       "       [237472.05]], dtype=float32)"
      ]
     },
     "execution_count": 56,
     "metadata": {},
     "output_type": "execute_result"
    }
   ],
   "source": [
    "Test_set_predictions"
   ]
  },
  {
   "cell_type": "code",
   "execution_count": 57,
   "metadata": {},
   "outputs": [],
   "source": [
    "#Create Submission Dataframe\n",
    "pred = pd.DataFrame(Test_set_predictions)\n",
    "sub_df = pd.read_csv(r\"E:\\DEEP LEARNING\\Projects\\House Price Predictions\\sample_submission.csv\")\n",
    "dataset_submit = pd.concat([sub_df['Id'], pred], axis = 1)"
   ]
  },
  {
   "cell_type": "code",
   "execution_count": 58,
   "metadata": {},
   "outputs": [],
   "source": [
    "dataset_submit.columns = ['Id','SalePrice']\n",
    "dataset_submit.to_csv('Submission_ANN.csv',index=False)"
   ]
  },
  {
   "cell_type": "code",
   "execution_count": null,
   "metadata": {},
   "outputs": [],
   "source": []
  }
 ],
 "metadata": {
  "kernelspec": {
   "display_name": "Python 3",
   "language": "python",
   "name": "python3"
  },
  "language_info": {
   "codemirror_mode": {
    "name": "ipython",
    "version": 3
   },
   "file_extension": ".py",
   "mimetype": "text/x-python",
   "name": "python",
   "nbconvert_exporter": "python",
   "pygments_lexer": "ipython3",
   "version": "3.7.4"
  }
 },
 "nbformat": 4,
 "nbformat_minor": 2
}
